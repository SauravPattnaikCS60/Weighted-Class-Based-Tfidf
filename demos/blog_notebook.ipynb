{
 "cells": [
  {
   "cell_type": "code",
   "execution_count": 16,
   "id": "cc4609a5",
   "metadata": {},
   "outputs": [],
   "source": [
    "import pandas as pd\n",
    "import numpy as np\n",
    "from sklearn.feature_extraction.text import CountVectorizer,TfidfVectorizer\n",
    "import re\n",
    "from sklearn.model_selection import train_test_split\n",
    "from sklearn.metrics import *\n",
    "from sklearn.linear_model import LogisticRegression\n",
    "\n",
    "import warnings\n",
    "warnings.filterwarnings('ignore')\n",
    "\n",
    "import os\n",
    "import sys\n",
    "module_path = os.path.abspath(os.path.join('..'))\n",
    "if module_path not in sys.path:\n",
    "    sys.path.append(module_path)\n",
    "    \n",
    "from wcbtfidf import Wcbtfidf"
   ]
  },
  {
   "cell_type": "code",
   "execution_count": 17,
   "id": "00783250",
   "metadata": {},
   "outputs": [],
   "source": [
    "file = \"imdb_dataset.csv\"\n",
    "def read_and_prepare_data(filename):\n",
    "    df = pd.read_csv('imdb_dataset.csv')\n",
    "    print(f'Shape of the dataset is {df.shape}')\n",
    "    print(f'Target distribution is \\n{df.sentiment.value_counts(normalize=True)}')\n",
    "    df['sentiment'] = df['sentiment'].map({'negative':0,'positive':1})\n",
    "    # To test our hypothesis let us convert into an imbalance problem with fewer positive samples\n",
    "    # We will take a total of 25k points with 23k points to class 0 and 2k points to class 1\n",
    "\n",
    "    negative_samples = df[df['sentiment'] == 0].sample(n=23000,random_state=60)\n",
    "    positive_samples = df[df['sentiment'] == 1].sample(n=2000,random_state=60)\n",
    "\n",
    "    final_df = pd.concat([negative_samples,positive_samples]).sample(frac=1,random_state=60) # A sample operation with full data is \n",
    "                                                                             # performed to shuffle the data points\n",
    "    print(f'Final data shape is {final_df.shape}')\n",
    "    print(f'Final target distribution is \\n{final_df.sentiment.value_counts(normalize=True)}')\n",
    "    return final_df"
   ]
  },
  {
   "cell_type": "code",
   "execution_count": 18,
   "id": "9c95a6f2",
   "metadata": {},
   "outputs": [
    {
     "name": "stdout",
     "output_type": "stream",
     "text": [
      "Shape of the dataset is (50000, 2)\n",
      "Target distribution is \n",
      "positive    0.5\n",
      "negative    0.5\n",
      "Name: sentiment, dtype: float64\n",
      "Final data shape is (25000, 2)\n",
      "Final target distribution is \n",
      "0    0.92\n",
      "1    0.08\n",
      "Name: sentiment, dtype: float64\n"
     ]
    }
   ],
   "source": [
    "final_df = read_and_prepare_data(file)"
   ]
  },
  {
   "cell_type": "code",
   "execution_count": 19,
   "id": "693f6b13",
   "metadata": {},
   "outputs": [],
   "source": [
    "def preprocess_text(text):\n",
    "    text = text.lower()\n",
    "    text = re.sub(\"[^a-z0-9]\",\" \",text)\n",
    "    text = re.sub(\"(\\s)+\",\" \",text)\n",
    "    return text"
   ]
  },
  {
   "cell_type": "code",
   "execution_count": 20,
   "id": "f3a94bcd",
   "metadata": {},
   "outputs": [],
   "source": [
    "final_df['clean_text'] = final_df['review'].apply(preprocess_text)"
   ]
  },
  {
   "cell_type": "code",
   "execution_count": 21,
   "id": "329ae9b2",
   "metadata": {},
   "outputs": [
    {
     "name": "stdout",
     "output_type": "stream",
     "text": [
      "(18750,) (18750,)\n",
      "(6250,) (6250,)\n"
     ]
    }
   ],
   "source": [
    "final_df = final_df[['clean_text','sentiment']]\n",
    "xtrain,xtest,ytrain,ytest = train_test_split(final_df['clean_text'],final_df['sentiment'],test_size=0.25,random_state=60,stratify=final_df['sentiment'])\n",
    "\n",
    "print(xtrain.shape,ytrain.shape)\n",
    "print(xtest.shape,ytest.shape)"
   ]
  },
  {
   "cell_type": "code",
   "execution_count": 22,
   "id": "a9a1dd1d",
   "metadata": {},
   "outputs": [],
   "source": [
    "def check_hypothesis(xtrain,xtest,ytrain,ytest,max_feat,model):\n",
    "    \n",
    "    print('Running TFIDF')\n",
    "    tfidf = TfidfVectorizer(max_features=max_feat,stop_words='english')\n",
    "    train_df = pd.DataFrame(tfidf.fit_transform(xtrain).toarray(),columns=tfidf.vocabulary_)\n",
    "    test_df = pd.DataFrame(tfidf.transform(xtest).toarray(),columns=tfidf.vocabulary_)\n",
    "    \n",
    "    \n",
    "    model.fit(train_df,ytrain)\n",
    "    preds_tfidf = model.predict(test_df)\n",
    "    print(classification_report(ytest,preds_tfidf))\n",
    "    \n",
    "    print('Running WCBTFIDF')\n",
    "    wcbtfidf = Wcbtfidf(max_features=max_feat)\n",
    "    wcbtfidf.fit(xtrain,ytrain)\n",
    "    \n",
    "    train_df = wcbtfidf.transform(xtrain)\n",
    "    test_df = wcbtfidf.transform(xtest)\n",
    "    \n",
    "    model.fit(train_df,ytrain)\n",
    "    preds_wcbtfidf = model.predict(test_df)\n",
    "    print(classification_report(ytest,preds_wcbtfidf))\n",
    "\n",
    "    return wcbtfidf,tfidf"
   ]
  },
  {
   "cell_type": "code",
   "execution_count": 23,
   "id": "507a98ca",
   "metadata": {},
   "outputs": [
    {
     "name": "stdout",
     "output_type": "stream",
     "text": [
      "Running TFIDF\n",
      "              precision    recall  f1-score   support\n",
      "\n",
      "           0       0.93      1.00      0.96      5750\n",
      "           1       0.74      0.15      0.25       500\n",
      "\n",
      "    accuracy                           0.93      6250\n",
      "   macro avg       0.84      0.57      0.61      6250\n",
      "weighted avg       0.92      0.93      0.91      6250\n",
      "\n",
      "Running WCBTFIDF\n",
      "              precision    recall  f1-score   support\n",
      "\n",
      "           0       0.93      0.99      0.96      5750\n",
      "           1       0.75      0.19      0.31       500\n",
      "\n",
      "    accuracy                           0.93      6250\n",
      "   macro avg       0.84      0.59      0.63      6250\n",
      "weighted avg       0.92      0.93      0.91      6250\n",
      "\n"
     ]
    }
   ],
   "source": [
    "model = LogisticRegression()\n",
    "wcbtfidf_object,tfidf_object = check_hypothesis(xtrain,xtest,ytrain,ytest,300,model)"
   ]
  },
  {
   "cell_type": "markdown",
   "id": "1cc00911",
   "metadata": {},
   "source": [
    "## ANALYSIS"
   ]
  },
  {
   "cell_type": "code",
   "execution_count": 24,
   "id": "f4ea7bd8",
   "metadata": {},
   "outputs": [
    {
     "name": "stdout",
     "output_type": "stream",
     "text": [
      "300 300\n"
     ]
    }
   ],
   "source": [
    "# Length Comparison\n",
    "\n",
    "tfidf_vocab = tfidf_object.vocabulary_\n",
    "wcbtfidf_vocab = wcbtfidf_object.combine_vocab\n",
    "\n",
    "print(len(wcbtfidf_vocab),len(tfidf_vocab))"
   ]
  },
  {
   "cell_type": "code",
   "execution_count": 10,
   "id": "66f9c177",
   "metadata": {},
   "outputs": [
    {
     "name": "stdout",
     "output_type": "stream",
     "text": [
      "['blood', 'direction', 'starts', 'annoying', 'stuff', 'god', 'car', 'came', 'episode', 'lost', 'wouldn', 'picture', 'totally', 'sound', 'cheap', 'care', 'save', 'quality', 'stars', 'hell', 'certainly', 'thinking', 'beginning', 'face', 'boy', 'yes', 'flick', 'kill', 'nice', 'truly', 'stop', 'killed', 'hope', 'written', 'attempt', 'moments', 'children', 'don', 'having', 'lead', 'person', 'felt', 'called', 'overall', 'wanted', 'white', 'writing', 'finally', 'evil', 'entire', 'obviously', 'does', 'girls', 'happens', 'turn', 'run', 'just', 'did', 'act', 'lack', 'looked', 'small', 'ridiculous', 'doing', 'gave', 'gore', 'title', 'game', 'example', 'hour', 'ok', 'case', 'playing', 'tries', 'recommend', 'decent', 'style']\n"
     ]
    }
   ],
   "source": [
    "# Words that are present in tfidf vocab but not in wcbtfidf\n",
    "\n",
    "print(list(set(tfidf_vocab) - set(wcbtfidf_vocab)))"
   ]
  },
  {
   "cell_type": "code",
   "execution_count": 11,
   "id": "11af923d",
   "metadata": {},
   "outputs": [
    {
     "name": "stdout",
     "output_type": "stream",
     "text": [
      "['first', 'though', 'get', 'since', 'show', 'take', 'enough', 'although', 'another', 'seem', 'however', 'excellent', 'made', 'done', 'find', 'even', 'loved', 'definitely', 'back', 'go', 'still', 'anything', 'top', 'someone', 'rather', 'perfect', 'one', 'might', 'else', 'see', 'could', 'human', 'must', 'today', 'also', 'well', 'many', 'performances', 'everything', 'two', 'nothing', 'without', 'ever', 'seems', 'part', 'seemed', 'wonderful', 'every', 'less', 'yet', 'amazing', 'us', 'put', 'together', 'anyone', 'either', 'always', 'along', 're', 'become', 'would', 'gives', 'something', 'never', 'almost', 'may', 'give', 'found', 'around', 'next', 'much', 'name', 'everyone', 'last', 'least', 'three', 'whole']\n"
     ]
    }
   ],
   "source": [
    "# Words that are present in wcbtfidf but not in tfidf\n",
    "\n",
    "print(list(set(wcbtfidf_vocab) - set(tfidf_vocab)))"
   ]
  }
 ],
 "metadata": {
  "kernelspec": {
   "display_name": "Python 3",
   "language": "python",
   "name": "python3"
  },
  "language_info": {
   "codemirror_mode": {
    "name": "ipython",
    "version": 3
   },
   "file_extension": ".py",
   "mimetype": "text/x-python",
   "name": "python",
   "nbconvert_exporter": "python",
   "pygments_lexer": "ipython3",
   "version": "3.8.5"
  }
 },
 "nbformat": 4,
 "nbformat_minor": 5
}
