{
 "cells": [
  {
   "cell_type": "code",
   "execution_count": 1,
   "id": "cc4609a5",
   "metadata": {},
   "outputs": [],
   "source": [
    "import pandas as pd\n",
    "import numpy as np\n",
    "from sklearn.feature_extraction.text import CountVectorizer,TfidfVectorizer\n",
    "import re\n",
    "from sklearn.model_selection import train_test_split\n",
    "from sklearn.metrics import *\n",
    "from sklearn.linear_model import LogisticRegression\n",
    "\n",
    "import warnings\n",
    "warnings.filterwarnings('ignore')\n",
    "\n",
    "import os\n",
    "import sys\n",
    "module_path = os.path.abspath(os.path.join('..'))\n",
    "if module_path not in sys.path:\n",
    "    sys.path.append(module_path)\n",
    "    \n",
    "from wcbtfidf import Wcbtfidf"
   ]
  },
  {
   "cell_type": "code",
   "execution_count": 2,
   "id": "e0db4999",
   "metadata": {},
   "outputs": [
    {
     "data": {
      "text/plain": [
       "(50000, 2)"
      ]
     },
     "execution_count": 2,
     "metadata": {},
     "output_type": "execute_result"
    }
   ],
   "source": [
    "df = pd.read_csv('imdb_dataset.csv')\n",
    "df.shape"
   ]
  },
  {
   "cell_type": "code",
   "execution_count": 3,
   "id": "d16fad47",
   "metadata": {},
   "outputs": [
    {
     "data": {
      "text/html": [
       "<div>\n",
       "<style scoped>\n",
       "    .dataframe tbody tr th:only-of-type {\n",
       "        vertical-align: middle;\n",
       "    }\n",
       "\n",
       "    .dataframe tbody tr th {\n",
       "        vertical-align: top;\n",
       "    }\n",
       "\n",
       "    .dataframe thead th {\n",
       "        text-align: right;\n",
       "    }\n",
       "</style>\n",
       "<table border=\"1\" class=\"dataframe\">\n",
       "  <thead>\n",
       "    <tr style=\"text-align: right;\">\n",
       "      <th></th>\n",
       "      <th>review</th>\n",
       "      <th>sentiment</th>\n",
       "    </tr>\n",
       "  </thead>\n",
       "  <tbody>\n",
       "    <tr>\n",
       "      <th>0</th>\n",
       "      <td>One of the other reviewers has mentioned that ...</td>\n",
       "      <td>positive</td>\n",
       "    </tr>\n",
       "    <tr>\n",
       "      <th>1</th>\n",
       "      <td>A wonderful little production. &lt;br /&gt;&lt;br /&gt;The...</td>\n",
       "      <td>positive</td>\n",
       "    </tr>\n",
       "    <tr>\n",
       "      <th>2</th>\n",
       "      <td>I thought this was a wonderful way to spend ti...</td>\n",
       "      <td>positive</td>\n",
       "    </tr>\n",
       "    <tr>\n",
       "      <th>3</th>\n",
       "      <td>Basically there's a family where a little boy ...</td>\n",
       "      <td>negative</td>\n",
       "    </tr>\n",
       "    <tr>\n",
       "      <th>4</th>\n",
       "      <td>Petter Mattei's \"Love in the Time of Money\" is...</td>\n",
       "      <td>positive</td>\n",
       "    </tr>\n",
       "  </tbody>\n",
       "</table>\n",
       "</div>"
      ],
      "text/plain": [
       "                                              review sentiment\n",
       "0  One of the other reviewers has mentioned that ...  positive\n",
       "1  A wonderful little production. <br /><br />The...  positive\n",
       "2  I thought this was a wonderful way to spend ti...  positive\n",
       "3  Basically there's a family where a little boy ...  negative\n",
       "4  Petter Mattei's \"Love in the Time of Money\" is...  positive"
      ]
     },
     "execution_count": 3,
     "metadata": {},
     "output_type": "execute_result"
    }
   ],
   "source": [
    "df.head()"
   ]
  },
  {
   "cell_type": "code",
   "execution_count": 4,
   "id": "c2a64317",
   "metadata": {},
   "outputs": [
    {
     "data": {
      "text/plain": [
       "negative    0.5\n",
       "positive    0.5\n",
       "Name: sentiment, dtype: float64"
      ]
     },
     "execution_count": 4,
     "metadata": {},
     "output_type": "execute_result"
    }
   ],
   "source": [
    "# Target data distribution\n",
    "df['sentiment'].value_counts(normalize=True)"
   ]
  },
  {
   "cell_type": "code",
   "execution_count": 5,
   "id": "89c950e5",
   "metadata": {},
   "outputs": [],
   "source": [
    "df['sentiment'] = df['sentiment'].map({'negative':0,'positive':1})"
   ]
  },
  {
   "cell_type": "code",
   "execution_count": 17,
   "id": "9c95a6f2",
   "metadata": {},
   "outputs": [
    {
     "data": {
      "text/plain": [
       "0    0.92\n",
       "1    0.08\n",
       "Name: sentiment, dtype: float64"
      ]
     },
     "execution_count": 17,
     "metadata": {},
     "output_type": "execute_result"
    }
   ],
   "source": [
    "# To test our hypothesis let us convert into an imbalance problem with fewer positive samples\n",
    "# We will take a total of 25k points with 23k points to class 0 and 2k points to class 1\n",
    "\n",
    "negative_samples = df[df['sentiment'] == 0].sample(n=23000,random_state=60)\n",
    "positive_samples = df[df['sentiment'] == 1].sample(n=2000,random_state=60)\n",
    "\n",
    "final_df = pd.concat([negative_samples,positive_samples]).sample(frac=1) # A sample operation with full data is \n",
    "                                                                         # performed to shuffle the data points\n",
    "final_df['sentiment'].value_counts(normalize=True)"
   ]
  },
  {
   "cell_type": "code",
   "execution_count": 18,
   "id": "693f6b13",
   "metadata": {},
   "outputs": [],
   "source": [
    "def preprocess_text(text):\n",
    "    text = text.lower()\n",
    "    text = re.sub(\"[^a-z0-9]\",\" \",text)\n",
    "    text = re.sub(\"(\\s)+\",\" \",text)\n",
    "    return text"
   ]
  },
  {
   "cell_type": "code",
   "execution_count": 19,
   "id": "f3a94bcd",
   "metadata": {},
   "outputs": [],
   "source": [
    "final_df['clean_text'] = final_df['review'].apply(preprocess_text)"
   ]
  },
  {
   "cell_type": "code",
   "execution_count": 20,
   "id": "13d6db76",
   "metadata": {},
   "outputs": [
    {
     "name": "stdout",
     "output_type": "stream",
     "text": [
      "(25000, 3)\n",
      "(25000, 2)\n"
     ]
    }
   ],
   "source": [
    "print(final_df.shape)\n",
    "final_df = final_df[['clean_text','sentiment']]\n",
    "print(final_df.shape)"
   ]
  },
  {
   "cell_type": "code",
   "execution_count": 21,
   "id": "329ae9b2",
   "metadata": {},
   "outputs": [
    {
     "name": "stdout",
     "output_type": "stream",
     "text": [
      "(18750,) (18750,)\n",
      "(6250,) (6250,)\n"
     ]
    }
   ],
   "source": [
    "xtrain,xtest,ytrain,ytest = train_test_split(final_df['clean_text'],final_df['sentiment'],test_size=0.25,random_state=60,stratify=final_df['sentiment'])\n",
    "\n",
    "print(xtrain.shape,ytrain.shape)\n",
    "print(xtest.shape,ytest.shape)"
   ]
  },
  {
   "cell_type": "code",
   "execution_count": 22,
   "id": "391fc9ea",
   "metadata": {},
   "outputs": [
    {
     "name": "stdout",
     "output_type": "stream",
     "text": [
      "0    0.92\n",
      "1    0.08\n",
      "Name: sentiment, dtype: float64\n",
      "0    0.92\n",
      "1    0.08\n",
      "Name: sentiment, dtype: float64\n"
     ]
    }
   ],
   "source": [
    "# Distribution check in train and test\n",
    "\n",
    "print(ytrain.value_counts(normalize=True))\n",
    "print(ytest.value_counts(normalize=True))"
   ]
  },
  {
   "cell_type": "code",
   "execution_count": 23,
   "id": "a9a1dd1d",
   "metadata": {},
   "outputs": [],
   "source": [
    "def check_hypothesis(xtrain,xtest,ytrain,ytest,max_feat,model):\n",
    "    \n",
    "    print('Running base version')\n",
    "    tfidf = TfidfVectorizer(max_features=max_feat,stop_words='english')\n",
    "    train_df = pd.DataFrame(tfidf.fit_transform(xtrain).toarray(),columns=tfidf.vocabulary_)\n",
    "    test_df = pd.DataFrame(tfidf.transform(xtest).toarray(),columns=tfidf.vocabulary_)\n",
    "    \n",
    "    \n",
    "    model.fit(train_df,ytrain)\n",
    "    preds = model.predict(test_df)\n",
    "    print(f'Precision is {precision_score(ytest,preds)}')\n",
    "    print(f'Recall is {recall_score(ytest,preds)}')\n",
    "    print(f'ROC curve is {roc_auc_score(ytest,preds)}')\n",
    "    print(classification_report(ytest,preds))\n",
    "    \n",
    "    print('Running my version')\n",
    "    wcbtfidf = Wcbtfidf(max_features=max_feat)\n",
    "    wcbtfidf.fit(xtrain,ytrain)\n",
    "    \n",
    "    train_df = wcbtfidf.transform(xtrain)\n",
    "    test_df = wcbtfidf.transform(xtest)\n",
    "    \n",
    "    model.fit(train_df,ytrain)\n",
    "    preds = model.predict(test_df)\n",
    "    print(f'Precision is {precision_score(ytest,preds)}')\n",
    "    print(f'Recall is {recall_score(ytest,preds)}')\n",
    "    print(f'ROC curve is {roc_auc_score(ytest,preds)}')\n",
    "    print(classification_report(ytest,preds))\n",
    "    return wcbtfidf,tfidf"
   ]
  },
  {
   "cell_type": "code",
   "execution_count": 24,
   "id": "507a98ca",
   "metadata": {},
   "outputs": [
    {
     "name": "stdout",
     "output_type": "stream",
     "text": [
      "Running base version\n",
      "Precision is 0.672566371681416\n",
      "Recall is 0.152\n",
      "ROC curve is 0.5727826086956521\n",
      "              precision    recall  f1-score   support\n",
      "\n",
      "           0       0.93      0.99      0.96      5750\n",
      "           1       0.67      0.15      0.25       500\n",
      "\n",
      "    accuracy                           0.93      6250\n",
      "   macro avg       0.80      0.57      0.60      6250\n",
      "weighted avg       0.91      0.93      0.90      6250\n",
      "\n",
      "Running my version\n",
      "Precision is 0.7112676056338029\n",
      "Recall is 0.202\n",
      "ROC curve is 0.5974347826086956\n",
      "              precision    recall  f1-score   support\n",
      "\n",
      "           0       0.93      0.99      0.96      5750\n",
      "           1       0.71      0.20      0.31       500\n",
      "\n",
      "    accuracy                           0.93      6250\n",
      "   macro avg       0.82      0.60      0.64      6250\n",
      "weighted avg       0.92      0.93      0.91      6250\n",
      "\n"
     ]
    }
   ],
   "source": [
    "model = LogisticRegression()\n",
    "wcbtfidf_object,tfidf_object = check_hypothesis(xtrain,xtest,ytrain,ytest,300,model)"
   ]
  },
  {
   "cell_type": "markdown",
   "id": "1cc00911",
   "metadata": {},
   "source": [
    "## ANALYSIS"
   ]
  },
  {
   "cell_type": "code",
   "execution_count": 25,
   "id": "f4ea7bd8",
   "metadata": {},
   "outputs": [
    {
     "name": "stdout",
     "output_type": "stream",
     "text": [
      "300 300\n"
     ]
    }
   ],
   "source": [
    "# Length Comparison\n",
    "\n",
    "tfidf_vocab = tfidf_object.vocabulary_\n",
    "wcbtfidf_vocab = wcbtfidf_object.combine_vocab\n",
    "\n",
    "print(len(wcbtfidf_vocab),len(tfidf_vocab))"
   ]
  },
  {
   "cell_type": "code",
   "execution_count": 26,
   "id": "66f9c177",
   "metadata": {},
   "outputs": [
    {
     "name": "stdout",
     "output_type": "stream",
     "text": [
      "['beginning', 'having', 'turn', 'finally', 'act', 'cheap', 'don', 'children', 'won', 'writing', 'god', 'kill', 'hope', 'doing', 'white', 'moments', 'ridiculous', 'gave', 'tries', 'hour', 'thinking', 'ok', 'lack', 'wanted', 'went', 'flick', 'lead', 'lost', 'direction', 'totally', 'stars', 'small', 'title', 'blood', 'decent', 'starts', 'just', 'called', 'attempt', 'remember', 'truly', 'run', 'felt', 'mr', 'picture', 'boy', 'stop', 'recommend', 'face', 'mother', 'gore', 'looked', 'quality', 'yes', 'sound', 'killed', 'hell', 'example', 'style', 'save', 'wouldn', 'does', 'came', 'overall', 'case', 'friend', 'written', 'stuff', 'car', 'evil', 'care', 'obviously', 'early', 'annoying', 'did', 'girls']\n"
     ]
    }
   ],
   "source": [
    "# Words that are present in tfidf vocab but not in wcbtfidf\n",
    "\n",
    "print(list(set(tfidf_vocab) - set(wcbtfidf_vocab)))"
   ]
  },
  {
   "cell_type": "code",
   "execution_count": 27,
   "id": "11af923d",
   "metadata": {},
   "outputs": [
    {
     "name": "stdout",
     "output_type": "stream",
     "text": [
      "['even', 'us', 'might', 'full', 'heart', 'every', 'seems', 'loved', 'last', 'top', 'could', 'without', 'less', 'get', 'three', 'done', 'well', 'next', 'wonderful', 'performances', 'human', 'else', 'put', 'may', 'since', 'much', 'although', 'another', 'anyone', 'almost', 'anything', 'also', 'would', 'go', 'however', 'rather', 'one', 'definitely', 'yet', 'though', 'nothing', 'around', 'everyone', 'something', 'take', 'perfect', 'part', 'enough', 'everything', 'made', 'ever', 'whole', 'must', 're', 'seem', 'never', 'many', 'find', 'always', 'two', 'together', 'give', 'excellent', 'found', 'name', 'still', 'amazing', 'someone', 'show', 'first', 'back', 'least', 'either', 'along', 'see', 'today']\n"
     ]
    }
   ],
   "source": [
    "# Words that are present in wcbtfidf but not in tfidf\n",
    "\n",
    "print(list(set(wcbtfidf_vocab) - set(tfidf_vocab)))"
   ]
  }
 ],
 "metadata": {
  "kernelspec": {
   "display_name": "Python 3",
   "language": "python",
   "name": "python3"
  },
  "language_info": {
   "codemirror_mode": {
    "name": "ipython",
    "version": 3
   },
   "file_extension": ".py",
   "mimetype": "text/x-python",
   "name": "python",
   "nbconvert_exporter": "python",
   "pygments_lexer": "ipython3",
   "version": "3.8.5"
  }
 },
 "nbformat": 4,
 "nbformat_minor": 5
}
