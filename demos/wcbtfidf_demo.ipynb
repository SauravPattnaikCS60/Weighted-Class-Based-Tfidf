{
 "cells": [
  {
   "cell_type": "code",
   "execution_count": 14,
   "id": "e2d8988b",
   "metadata": {},
   "outputs": [],
   "source": [
    "import pandas as pd\n",
    "import numpy as np\n",
    "from sklearn.feature_extraction.text import CountVectorizer,TfidfVectorizer\n",
    "import re\n",
    "from sklearn.model_selection import train_test_split\n",
    "from sklearn.metrics import *\n",
    "from sklearn.linear_model import LogisticRegression\n",
    "\n",
    "import warnings\n",
    "warnings.filterwarnings('ignore')\n",
    "\n",
    "import os\n",
    "import sys\n",
    "module_path = os.path.abspath(os.path.join('..'))\n",
    "if module_path not in sys.path:\n",
    "    sys.path.append(module_path)\n",
    "    \n",
    "from wcbtfidf import Wcbtfidf"
   ]
  },
  {
   "cell_type": "code",
   "execution_count": 15,
   "id": "188e8f23",
   "metadata": {},
   "outputs": [
    {
     "data": {
      "text/html": [
       "<div>\n",
       "<style scoped>\n",
       "    .dataframe tbody tr th:only-of-type {\n",
       "        vertical-align: middle;\n",
       "    }\n",
       "\n",
       "    .dataframe tbody tr th {\n",
       "        vertical-align: top;\n",
       "    }\n",
       "\n",
       "    .dataframe thead th {\n",
       "        text-align: right;\n",
       "    }\n",
       "</style>\n",
       "<table border=\"1\" class=\"dataframe\">\n",
       "  <thead>\n",
       "    <tr style=\"text-align: right;\">\n",
       "      <th></th>\n",
       "      <th>PhraseId</th>\n",
       "      <th>SentenceId</th>\n",
       "      <th>Phrase</th>\n",
       "      <th>Sentiment</th>\n",
       "    </tr>\n",
       "  </thead>\n",
       "  <tbody>\n",
       "    <tr>\n",
       "      <th>0</th>\n",
       "      <td>1</td>\n",
       "      <td>1</td>\n",
       "      <td>A series of escapades demonstrating the adage ...</td>\n",
       "      <td>1</td>\n",
       "    </tr>\n",
       "    <tr>\n",
       "      <th>1</th>\n",
       "      <td>2</td>\n",
       "      <td>1</td>\n",
       "      <td>A series of escapades demonstrating the adage ...</td>\n",
       "      <td>2</td>\n",
       "    </tr>\n",
       "    <tr>\n",
       "      <th>2</th>\n",
       "      <td>3</td>\n",
       "      <td>1</td>\n",
       "      <td>A series</td>\n",
       "      <td>2</td>\n",
       "    </tr>\n",
       "    <tr>\n",
       "      <th>3</th>\n",
       "      <td>4</td>\n",
       "      <td>1</td>\n",
       "      <td>A</td>\n",
       "      <td>2</td>\n",
       "    </tr>\n",
       "    <tr>\n",
       "      <th>4</th>\n",
       "      <td>5</td>\n",
       "      <td>1</td>\n",
       "      <td>series</td>\n",
       "      <td>2</td>\n",
       "    </tr>\n",
       "  </tbody>\n",
       "</table>\n",
       "</div>"
      ],
      "text/plain": [
       "   PhraseId  SentenceId                                             Phrase  \\\n",
       "0         1           1  A series of escapades demonstrating the adage ...   \n",
       "1         2           1  A series of escapades demonstrating the adage ...   \n",
       "2         3           1                                           A series   \n",
       "3         4           1                                                  A   \n",
       "4         5           1                                             series   \n",
       "\n",
       "   Sentiment  \n",
       "0          1  \n",
       "1          2  \n",
       "2          2  \n",
       "3          2  \n",
       "4          2  "
      ]
     },
     "execution_count": 15,
     "metadata": {},
     "output_type": "execute_result"
    }
   ],
   "source": [
    "df = pd.read_csv('train.tsv',sep='\\t')\n",
    "df.head()"
   ]
  },
  {
   "cell_type": "code",
   "execution_count": 16,
   "id": "228ef456",
   "metadata": {},
   "outputs": [
    {
     "data": {
      "text/plain": [
       "2    0.509945\n",
       "3    0.210989\n",
       "1    0.174760\n",
       "4    0.058990\n",
       "0    0.045316\n",
       "Name: Sentiment, dtype: float64"
      ]
     },
     "execution_count": 16,
     "metadata": {},
     "output_type": "execute_result"
    }
   ],
   "source": [
    "df['Sentiment'].value_counts(normalize=True)"
   ]
  },
  {
   "cell_type": "code",
   "execution_count": 17,
   "id": "97d07cb4",
   "metadata": {},
   "outputs": [
    {
     "data": {
      "text/plain": [
       "1    0.779924\n",
       "0    0.220076\n",
       "Name: target, dtype: float64"
      ]
     },
     "execution_count": 17,
     "metadata": {},
     "output_type": "execute_result"
    }
   ],
   "source": [
    "def change_target(value):\n",
    "    if value in [2,3,4]:\n",
    "        return 1\n",
    "    \n",
    "    if value in [0,1]:\n",
    "        return 0\n",
    "    \n",
    "\n",
    "df['target'] = df['Sentiment'].apply(change_target)\n",
    "df['target'].value_counts(normalize=True)"
   ]
  },
  {
   "cell_type": "code",
   "execution_count": 18,
   "id": "9cbb9cbe",
   "metadata": {},
   "outputs": [],
   "source": [
    "def preprocess_text(text):\n",
    "    text = text.lower()\n",
    "    text = re.sub(\"[^a-z0-9]\",\" \",text)\n",
    "    text = re.sub(\"(\\s)+\",\" \",text)\n",
    "    return text"
   ]
  },
  {
   "cell_type": "code",
   "execution_count": 19,
   "id": "6d362a11",
   "metadata": {},
   "outputs": [],
   "source": [
    "df['clean_text'] = df['Phrase'].apply(preprocess_text)"
   ]
  },
  {
   "cell_type": "code",
   "execution_count": 20,
   "id": "d8f3dcbd",
   "metadata": {},
   "outputs": [
    {
     "data": {
      "text/html": [
       "<div>\n",
       "<style scoped>\n",
       "    .dataframe tbody tr th:only-of-type {\n",
       "        vertical-align: middle;\n",
       "    }\n",
       "\n",
       "    .dataframe tbody tr th {\n",
       "        vertical-align: top;\n",
       "    }\n",
       "\n",
       "    .dataframe thead th {\n",
       "        text-align: right;\n",
       "    }\n",
       "</style>\n",
       "<table border=\"1\" class=\"dataframe\">\n",
       "  <thead>\n",
       "    <tr style=\"text-align: right;\">\n",
       "      <th></th>\n",
       "      <th>PhraseId</th>\n",
       "      <th>SentenceId</th>\n",
       "      <th>Phrase</th>\n",
       "      <th>Sentiment</th>\n",
       "      <th>target</th>\n",
       "      <th>clean_text</th>\n",
       "    </tr>\n",
       "  </thead>\n",
       "  <tbody>\n",
       "    <tr>\n",
       "      <th>0</th>\n",
       "      <td>1</td>\n",
       "      <td>1</td>\n",
       "      <td>A series of escapades demonstrating the adage ...</td>\n",
       "      <td>1</td>\n",
       "      <td>0</td>\n",
       "      <td>a series of escapades demonstrating the adage ...</td>\n",
       "    </tr>\n",
       "    <tr>\n",
       "      <th>1</th>\n",
       "      <td>2</td>\n",
       "      <td>1</td>\n",
       "      <td>A series of escapades demonstrating the adage ...</td>\n",
       "      <td>2</td>\n",
       "      <td>1</td>\n",
       "      <td>a series of escapades demonstrating the adage ...</td>\n",
       "    </tr>\n",
       "    <tr>\n",
       "      <th>2</th>\n",
       "      <td>3</td>\n",
       "      <td>1</td>\n",
       "      <td>A series</td>\n",
       "      <td>2</td>\n",
       "      <td>1</td>\n",
       "      <td>a series</td>\n",
       "    </tr>\n",
       "    <tr>\n",
       "      <th>3</th>\n",
       "      <td>4</td>\n",
       "      <td>1</td>\n",
       "      <td>A</td>\n",
       "      <td>2</td>\n",
       "      <td>1</td>\n",
       "      <td>a</td>\n",
       "    </tr>\n",
       "    <tr>\n",
       "      <th>4</th>\n",
       "      <td>5</td>\n",
       "      <td>1</td>\n",
       "      <td>series</td>\n",
       "      <td>2</td>\n",
       "      <td>1</td>\n",
       "      <td>series</td>\n",
       "    </tr>\n",
       "  </tbody>\n",
       "</table>\n",
       "</div>"
      ],
      "text/plain": [
       "   PhraseId  SentenceId                                             Phrase  \\\n",
       "0         1           1  A series of escapades demonstrating the adage ...   \n",
       "1         2           1  A series of escapades demonstrating the adage ...   \n",
       "2         3           1                                           A series   \n",
       "3         4           1                                                  A   \n",
       "4         5           1                                             series   \n",
       "\n",
       "   Sentiment  target                                         clean_text  \n",
       "0          1       0  a series of escapades demonstrating the adage ...  \n",
       "1          2       1  a series of escapades demonstrating the adage ...  \n",
       "2          2       1                                           a series  \n",
       "3          2       1                                                  a  \n",
       "4          2       1                                             series  "
      ]
     },
     "execution_count": 20,
     "metadata": {},
     "output_type": "execute_result"
    }
   ],
   "source": [
    "df.head()"
   ]
  },
  {
   "cell_type": "code",
   "execution_count": 21,
   "id": "62e822fe",
   "metadata": {},
   "outputs": [
    {
     "name": "stdout",
     "output_type": "stream",
     "text": [
      "(156060, 6)\n",
      "(156060, 2)\n"
     ]
    }
   ],
   "source": [
    "print(df.shape)\n",
    "df = df[['clean_text','target']]\n",
    "print(df.shape)"
   ]
  },
  {
   "cell_type": "code",
   "execution_count": 22,
   "id": "5271626a",
   "metadata": {},
   "outputs": [
    {
     "name": "stdout",
     "output_type": "stream",
     "text": [
      "(117045,) (117045,)\n",
      "(39015,) (39015,)\n"
     ]
    }
   ],
   "source": [
    "xtrain,xtest,ytrain,ytest = train_test_split(df['clean_text'],df['target'],test_size=0.25,random_state=60,stratify=df['target'])\n",
    "\n",
    "print(xtrain.shape,ytrain.shape)\n",
    "print(xtest.shape,ytest.shape)"
   ]
  },
  {
   "cell_type": "code",
   "execution_count": 23,
   "id": "c87b7655",
   "metadata": {},
   "outputs": [],
   "source": [
    "def check_hypothesis(xtrain,xtest,ytrain,ytest,max_feat,model):\n",
    "    \n",
    "    print('Running base version')\n",
    "    tfidf = TfidfVectorizer(max_features=max_feat,stop_words='english')\n",
    "    train_df = pd.DataFrame(tfidf.fit_transform(xtrain).toarray(),columns=tfidf.vocabulary_)\n",
    "    test_df = pd.DataFrame(tfidf.transform(xtest).toarray(),columns=tfidf.vocabulary_)\n",
    "    \n",
    "    \n",
    "    model.fit(train_df,ytrain)\n",
    "    preds = model.predict(test_df)\n",
    "    print(f'Precision is {precision_score(ytest,preds)}')\n",
    "    print(f'Recall is {recall_score(ytest,preds)}')\n",
    "    print(f'ROC curve is {roc_auc_score(ytest,preds)}')\n",
    "    print(classification_report(ytest,preds))\n",
    "    \n",
    "    print('Running my version')\n",
    "    wcbtfidf = Wcbtfidf(max_features=max_feat)\n",
    "    wcbtfidf.fit(xtrain,ytrain)\n",
    "    \n",
    "    train_df = wcbtfidf.transform(xtrain)\n",
    "    test_df = wcbtfidf.transform(xtest)\n",
    "    \n",
    "    model.fit(train_df,ytrain)\n",
    "    preds = model.predict(test_df)\n",
    "    print(f'Precision is {precision_score(ytest,preds)}')\n",
    "    print(f'Recall is {recall_score(ytest,preds)}')\n",
    "    print(f'ROC curve is {roc_auc_score(ytest,preds)}')\n",
    "    print(classification_report(ytest,preds))\n",
    "    return wcbtfidf"
   ]
  },
  {
   "cell_type": "code",
   "execution_count": 24,
   "id": "f8596cd1",
   "metadata": {},
   "outputs": [
    {
     "name": "stdout",
     "output_type": "stream",
     "text": [
      "Running base version\n",
      "Precision is 0.7953317083509962\n",
      "Recall is 0.9865260113707318\n",
      "ROC curve is 0.5434027680892792\n",
      "              precision    recall  f1-score   support\n",
      "\n",
      "           0       0.68      0.10      0.17      8586\n",
      "           1       0.80      0.99      0.88     30429\n",
      "\n",
      "    accuracy                           0.79     39015\n",
      "   macro avg       0.74      0.54      0.53     39015\n",
      "weighted avg       0.77      0.79      0.73     39015\n",
      "\n",
      "Running my version\n",
      "Precision is 0.8042208403994724\n",
      "Recall is 0.9818265470439383\n",
      "ROC curve is 0.567374955329563\n",
      "              precision    recall  f1-score   support\n",
      "\n",
      "           0       0.70      0.15      0.25      8586\n",
      "           1       0.80      0.98      0.88     30429\n",
      "\n",
      "    accuracy                           0.80     39015\n",
      "   macro avg       0.75      0.57      0.57     39015\n",
      "weighted avg       0.78      0.80      0.74     39015\n",
      "\n"
     ]
    }
   ],
   "source": [
    "model = LogisticRegression()\n",
    "wcbtfidf_object = check_hypothesis(xtrain,xtest,ytrain,ytest,300,model)"
   ]
  },
  {
   "cell_type": "code",
   "execution_count": 25,
   "id": "ff9ab077",
   "metadata": {},
   "outputs": [
    {
     "name": "stdout",
     "output_type": "stream",
     "text": [
      "300\n",
      "['might', 'come', 'away', 'music', 'll', 'entertaining', 'much', 'quite', 'hour', 'half']\n"
     ]
    }
   ],
   "source": [
    "# To see the vocab of the tfidf used we can access the same using the combine_vocab param\n",
    "\n",
    "print(len(wcbtfidf_object.combine_vocab)) # Checking the size of the vocab used\n",
    "print(wcbtfidf_object.combine_vocab[:10]) # Printing some of the words"
   ]
  },
  {
   "cell_type": "code",
   "execution_count": 27,
   "id": "01832bb2",
   "metadata": {},
   "outputs": [
    {
     "name": "stdout",
     "output_type": "stream",
     "text": [
      "1 : ['might', 'come', 'away', 'music', 'll', 'entertaining', 'much', 'quite', 'hour', 'half', 'lot', 'lrb', 'rrb', 'back', 'love', 'power', 'almost', 'bad', 'one', 'performance', 'real', 'funny', 'action', 'film', 'seen', 'times', 'show', 'stories', 'like', 'middle', 'war', 'nothing', 'camera', 'moving', 'think', 'screen', 're', 'director', 'set', 'art', 'many', 'movie', 'right', 'first', 'performances', 'go', 'even', 'watching', 'place', 'women', 'spirit', 'romantic', 'comedy', 'genre', 'experience', 'every', 'cinematic', 'well', 'sense', 'works', 'part', 'human', 'world', 'special', 'see', 'true', 'fans', 'piece', 'dark', 'style', 'find', 'characters', 'may', 'looking', 'something', 'make', 'small', 'far', 'humor', 'bit', 'american', 'flick', 've', 'ever', 'entertainment', 'fascinating', 'without', 'amusing', 'documentary', 'could', 'long', 'way', 'black', 'kids', 'watch', 'though', 'drama', 'fun', 'emotional', 'engaging', 'two', 'men', 'story', 'family', 'little', 'compelling', 'thing', 'modern', 'enough', 'life', 'often', 'end', 'cinema', 'seems', 'good', 'better', 'year', 'old', 'keep', 'things', 'making', 'us', 'hard', 'gets', 'feature', 'big', 'really', 'tale', 'new', 'gives', 'best', 'people', 'writer', 'star', 'plot', 'acting', 'material', 'takes', 'give', 'powerful', 'movies', 'woman', 'know', 'sweet', 'enjoyable', 'script', 'children', 'character', 'get', 'together', 'original', 'look', 'comic', 'made', 'least', 'feel', 'great', 'familiar', 'clever', 'also', 'high', 'sometimes', 'around', 'visual', 'ca', 'solid', 'time', 'interesting', 'portrait', 'culture', 'audience', 'work', 'study', 'girl', 'years', 'makes', 'less', 'scenes', 'minutes', 'history', 'full', 'man', 'hollywood', 'direction', 'going', 'films', 'smart', 'heart', 'kind', 'cast', 'age', 'pretty', 'last', 'always', 'lives', 'french', 'book', 'another', 'rather', 'young', 'ultimately', 'worth', 'would', 'yet', 'never', 'picture', 'perfect', 'summer', 'subject', 'actors', 'dialogue', 'comes', 'still', 'day', 'need', 'want', 'self', 'thriller', 'since', 'beautiful', 'moments', 'three', 'whose', 'strong', 'face', 'laughs', 'actually', 'light', 'intelligent', 'say', 'point', 'charming', 'take', 'matter']\n",
      "----------------------------------------------------------------------------------------------------\n",
      "0 : ['worst', 'screenplay', 'bland', 'video', 'dull', 'dumb', 'tired', 'lacks', 'feels', 'unfunny', 'seem', 'barely', 'silly', 'tv', 'low', 'cheap', 'left', 'flat', 'mess', 'fails', 'cliches', 'trying', 'simply', 'ugly', 'probably', 'goes', 'worse', 'effects', 'interest', 'run', 'predictable', 'lack', 'head', 'instead', 'short', 'becomes', 'reason', 'contrived', 'jokes', 'thin', 'boring', 'pretentious', 'none', 'exercise', 'title', 'whole', 'else', 'anything', 'hours', 'nearly', 'minute', 'premise', 'idea', 'cold', 'theater', 'soap', 'opera', 'poorly', 'already', 'stupid', 'anyone', 'series', 'care', 'obvious', 'slow', 'gags']\n",
      "----------------------------------------------------------------------------------------------------\n"
     ]
    }
   ],
   "source": [
    "# We can also check the class wise words taken by the model using the class_wise_vocab param\n",
    "for key,value in wcbtfidf_object.class_wise_vocab.items():\n",
    "    print(f\"{key} : {value}\")\n",
    "    print('-'*100)"
   ]
  }
 ],
 "metadata": {
  "kernelspec": {
   "display_name": "Python 3",
   "language": "python",
   "name": "python3"
  },
  "language_info": {
   "codemirror_mode": {
    "name": "ipython",
    "version": 3
   },
   "file_extension": ".py",
   "mimetype": "text/x-python",
   "name": "python",
   "nbconvert_exporter": "python",
   "pygments_lexer": "ipython3",
   "version": "3.8.5"
  }
 },
 "nbformat": 4,
 "nbformat_minor": 5
}
